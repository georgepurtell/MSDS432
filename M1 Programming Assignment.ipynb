{
 "cells": [
  {
   "cell_type": "markdown",
   "id": "858e105d-f984-4aae-8286-11d08d88f8f0",
   "metadata": {},
   "source": [
    "# Module 1 - Mini Programming Assignment: Comparing Search Algorithm Performance"
   ]
  },
  {
   "cell_type": "markdown",
   "id": "0c9ec852-52c9-4d03-9a3c-7d9480e8de85",
   "metadata": {},
   "source": [
    "In this exercise, we will begin to explore computational complexity and explore the differences in various sorting and search algorithms.  We will begin with the base code for sequential/linear and binary search as described in Chapter 1 of Grokking Algorithms (Bhargava 2016).  Example code for the base algorithm is available in the GitHub site for the textbook (please use the iterative solution)."
   ]
  },
  {
   "cell_type": "code",
   "execution_count": 199,
   "id": "0257075e-4f7a-459e-982d-c2ef9bcca969",
   "metadata": {},
   "outputs": [],
   "source": [
    "import numpy as np\n",
    "import random\n",
    "import time\n",
    "import timeit\n",
    "import pandas as pd\n",
    "import matplotlib.pyplot as plt"
   ]
  },
  {
   "cell_type": "markdown",
   "id": "62a8d708-8e18-419f-8339-5ba955e214f1",
   "metadata": {},
   "source": [
    "### 1) To begin, let's generate some random data to work with. Ensure that a common random number seed is used to generate each of the arrays. We will make five arrays, each of length 512, 1024, 2048, 4096, and 8192 containing randomly generated uniformly distributed integers between 1 to 10000."
   ]
  },
  {
   "cell_type": "code",
   "execution_count": 3,
   "id": "24d9a0ec-864c-4059-b39e-88da26937efe",
   "metadata": {},
   "outputs": [],
   "source": [
    "# Setting random number seed to ensure consistent results of randomly generated outputs\n",
    "np.random.seed(123)"
   ]
  },
  {
   "cell_type": "code",
   "execution_count": 4,
   "id": "d49b6dbe-5419-4cc8-aa0b-ca776b1380d4",
   "metadata": {},
   "outputs": [],
   "source": [
    "array_1 = np.random.randint(0, 10000, 512)\n",
    "array_2 = np.random.randint(0, 10000, 1024)\n",
    "array_3 = np.random.randint(0, 10000, 2048)\n",
    "array_4 = np.random.randint(0, 10000, 4096)\n",
    "array_5 = np.random.randint(0, 10000, 8192)"
   ]
  },
  {
   "cell_type": "code",
   "execution_count": 67,
   "id": "04256b20-0f7b-433b-8405-8876ca739793",
   "metadata": {},
   "outputs": [],
   "source": [
    "arrays = []\n",
    "\n",
    "for i in range(1,6): # Adding all previously defined arrays into one array for later use\n",
    "    \n",
    "    latest_array = eval('array_{}'.format(i))\n",
    "    \n",
    "    arrays.append(latest_array) # Equivalent of arrays = [array_1, array_2, array_3, array_4, array_5]"
   ]
  },
  {
   "cell_type": "markdown",
   "id": "abeb1b75-1631-40d8-ae45-c2db205f923b",
   "metadata": {},
   "source": [
    "### 2) Time the binary search algorithm on all five lists, noting the sort time and the search time separately. Remember, this algorithm only works on sorted data so you will need to do this before searching. Please use numpy.sort() or sorted() for this. With each execution use the maximum value of the random number array as the number for which you are searching. Please make sure your method of timing is giving accurate enough results for the analysis."
   ]
  },
  {
   "cell_type": "code",
   "execution_count": 21,
   "id": "c191f53e-53aa-40de-976b-ceb6a015d1d0",
   "metadata": {},
   "outputs": [],
   "source": [
    "def binary_search(list, item):\n",
    "    \n",
    "    # Low and high pointers keep track of which part of the list will be searched\n",
    "    low = 0\n",
    "    high = len(list) - 1\n",
    "    \n",
    "    while low <= high: # While the search has not been narrowed down to one element\n",
    "        mid = (low + high) // 2 # Identifying the middle element\n",
    "        guess = list[mid]\n",
    "        \n",
    "        if guess == item: # Found the item\n",
    "            return mid\n",
    "        if guess > item: # The guess was too high\n",
    "            high = mid - 1\n",
    "        else: # The guess was too low\n",
    "            low = mid + 1\n",
    "    return None # The item does not exist in the list"
   ]
  },
  {
   "cell_type": "code",
   "execution_count": 213,
   "id": "8af4208d-891f-4b73-bd50-588ba918e84c",
   "metadata": {},
   "outputs": [
    {
     "data": {
      "text/plain": [
       "[5.5900000006658956e-05,\n",
       " 0.00012539999988803174,\n",
       " 0.00013649999982590089,\n",
       " 0.00023590000000695,\n",
       " 0.0004434000002220273]"
      ]
     },
     "execution_count": 213,
     "metadata": {},
     "output_type": "execute_result"
    }
   ],
   "source": [
    "sorting_times = []\n",
    "sorted_arrays = []\n",
    "\n",
    "for i in arrays:\n",
    "    \n",
    "    start_time = time.perf_counter()\n",
    "    i = np.sort(i) # sorting array\n",
    "    end_time = time.perf_counter()\n",
    "    \n",
    "    total_time = end_time - start_time # calculating time to sort array\n",
    "    \n",
    "    sorting_times.append(total_time)\n",
    "\n",
    "    sorted_arrays.append(i) # adding sorted array to new sorted array list\n",
    "    \n",
    "sorting_times"
   ]
  },
  {
   "cell_type": "code",
   "execution_count": 214,
   "id": "7cbfb5ad-f1af-424a-bac3-66851476f316",
   "metadata": {},
   "outputs": [
    {
     "data": {
      "text/plain": [
       "[5.9899999541812576e-05,\n",
       " 1.3399999261309858e-05,\n",
       " 9.500000487605575e-06,\n",
       " 1.1899999663000926e-05,\n",
       " 0.00014970000029279618]"
      ]
     },
     "execution_count": 214,
     "metadata": {},
     "output_type": "execute_result"
    }
   ],
   "source": [
    "binary_search_times = []\n",
    "\n",
    "for i in sorted_arrays:\n",
    "    \n",
    "    start_time = time.perf_counter()\n",
    "    binary_search(i, i.max()) # performing binary search on the array, searching for max value of each array\n",
    "    end_time = time.perf_counter()\n",
    "    \n",
    "    total_time = end_time - start_time # calculating time to conduct binary search\n",
    "    \n",
    "    binary_search_times.append(total_time)\n",
    "    \n",
    "binary_search_times"
   ]
  },
  {
   "cell_type": "markdown",
   "id": "dd6a2da2-62a3-4048-8683-3ba657300eea",
   "metadata": {},
   "source": [
    "### 3) Time the linear search algorithm on all five lists. With each execution use the last value of the random number array as the number for which you are searching. Yes we are searching for different values in each algorithm, but we would like to compare worst case scenarios for each."
   ]
  },
  {
   "cell_type": "code",
   "execution_count": 175,
   "id": "87801f4b-f5d9-4b6d-aea2-b285d249ee99",
   "metadata": {},
   "outputs": [],
   "source": [
    "def linear_search(list, item):\n",
    "    \n",
    "    i = 0\n",
    "    \n",
    "    while i < len(list):\n",
    "        if list[i] == item:\n",
    "            return i\n",
    "        else:\n",
    "            i += 1        \n",
    "    \n",
    "    return None"
   ]
  },
  {
   "cell_type": "code",
   "execution_count": 215,
   "id": "044172ed-b236-4f6d-8391-c7cdd525e1ee",
   "metadata": {},
   "outputs": [
    {
     "data": {
      "text/plain": [
       "[0.00014059999921300914,\n",
       " 8.510000043315813e-05,\n",
       " 0.0004360000002634479,\n",
       " 0.0009304000004703994,\n",
       " 0.00194889999966108]"
      ]
     },
     "execution_count": 215,
     "metadata": {},
     "output_type": "execute_result"
    }
   ],
   "source": [
    "linear_search_times = []\n",
    "\n",
    "for i in arrays:\n",
    "    \n",
    "    start_time = time.perf_counter()\n",
    "    linear_search(i, i[-1]) # performing linear search on the array (not sorted), searching for last value of each array\n",
    "    end_time = time.perf_counter()\n",
    "    \n",
    "    total_time = end_time - start_time # calculating time to conduct linear search\n",
    "    \n",
    "    linear_search_times.append(total_time)\n",
    "    \n",
    "linear_search_times"
   ]
  },
  {
   "cell_type": "markdown",
   "id": "80359836-b637-4f4b-bdfe-afaff7c1db15",
   "metadata": {},
   "source": [
    "### 4) Prepare a five-column table containing each of the following:\n",
    "- length of the random number array\n",
    "- sort time\n",
    "- linear search time\n",
    "- binary search time\n",
    "- binary search time plus sort time"
   ]
  },
  {
   "cell_type": "code",
   "execution_count": 183,
   "id": "598f152b-9b6b-461d-87c6-25ae8a0618d1",
   "metadata": {},
   "outputs": [
    {
     "data": {
      "text/plain": [
       "[512, 1024, 2048, 4096, 8192]"
      ]
     },
     "execution_count": 183,
     "metadata": {},
     "output_type": "execute_result"
    }
   ],
   "source": [
    "# Creating list of original array lengths\n",
    "array_lengths = []\n",
    "\n",
    "for i in arrays:\n",
    "    array_lengths.append(len(i))\n",
    "    \n",
    "array_lengths"
   ]
  },
  {
   "cell_type": "code",
   "execution_count": 216,
   "id": "12ec41b5-ade0-407c-be0d-6a0e12710f45",
   "metadata": {},
   "outputs": [],
   "source": [
    "# Creating list of binary search + sort times\n",
    "binary_and_sort_times = np.array(sorting_times) + np.array(binary_search_times)\n",
    "binary_and_sort_times = binary_and_sort_times.tolist()"
   ]
  },
  {
   "cell_type": "code",
   "execution_count": 217,
   "id": "f263948a-8f73-4bec-a73c-05519ffaea3e",
   "metadata": {},
   "outputs": [],
   "source": [
    "a1_data = {'Array Length': array_lengths\n",
    "           , 'Sort Time': sorting_times\n",
    "           , 'Linear Search Time': linear_search_times\n",
    "           , 'Binary Search Time': binary_search_times\n",
    "           , 'Binary Search + Sort Time': binary_and_sort_times}"
   ]
  },
  {
   "cell_type": "code",
   "execution_count": 218,
   "id": "c6b2b88b-7e45-4c1e-a094-bb0f922a7d0c",
   "metadata": {},
   "outputs": [
    {
     "data": {
      "text/html": [
       "<div>\n",
       "<style scoped>\n",
       "    .dataframe tbody tr th:only-of-type {\n",
       "        vertical-align: middle;\n",
       "    }\n",
       "\n",
       "    .dataframe tbody tr th {\n",
       "        vertical-align: top;\n",
       "    }\n",
       "\n",
       "    .dataframe thead th {\n",
       "        text-align: right;\n",
       "    }\n",
       "</style>\n",
       "<table border=\"1\" class=\"dataframe\">\n",
       "  <thead>\n",
       "    <tr style=\"text-align: right;\">\n",
       "      <th></th>\n",
       "      <th>Array Length</th>\n",
       "      <th>Sort Time</th>\n",
       "      <th>Linear Search Time</th>\n",
       "      <th>Binary Search Time</th>\n",
       "      <th>Binary Search + Sort Time</th>\n",
       "    </tr>\n",
       "  </thead>\n",
       "  <tbody>\n",
       "    <tr>\n",
       "      <th>0</th>\n",
       "      <td>512</td>\n",
       "      <td>0.000056</td>\n",
       "      <td>0.000141</td>\n",
       "      <td>0.000060</td>\n",
       "      <td>0.000116</td>\n",
       "    </tr>\n",
       "    <tr>\n",
       "      <th>1</th>\n",
       "      <td>1024</td>\n",
       "      <td>0.000125</td>\n",
       "      <td>0.000085</td>\n",
       "      <td>0.000013</td>\n",
       "      <td>0.000139</td>\n",
       "    </tr>\n",
       "    <tr>\n",
       "      <th>2</th>\n",
       "      <td>2048</td>\n",
       "      <td>0.000136</td>\n",
       "      <td>0.000436</td>\n",
       "      <td>0.000010</td>\n",
       "      <td>0.000146</td>\n",
       "    </tr>\n",
       "    <tr>\n",
       "      <th>3</th>\n",
       "      <td>4096</td>\n",
       "      <td>0.000236</td>\n",
       "      <td>0.000930</td>\n",
       "      <td>0.000012</td>\n",
       "      <td>0.000248</td>\n",
       "    </tr>\n",
       "    <tr>\n",
       "      <th>4</th>\n",
       "      <td>8192</td>\n",
       "      <td>0.000443</td>\n",
       "      <td>0.001949</td>\n",
       "      <td>0.000150</td>\n",
       "      <td>0.000593</td>\n",
       "    </tr>\n",
       "  </tbody>\n",
       "</table>\n",
       "</div>"
      ],
      "text/plain": [
       "   Array Length  Sort Time  Linear Search Time  Binary Search Time  \\\n",
       "0           512   0.000056            0.000141            0.000060   \n",
       "1          1024   0.000125            0.000085            0.000013   \n",
       "2          2048   0.000136            0.000436            0.000010   \n",
       "3          4096   0.000236            0.000930            0.000012   \n",
       "4          8192   0.000443            0.001949            0.000150   \n",
       "\n",
       "   Binary Search + Sort Time  \n",
       "0                   0.000116  \n",
       "1                   0.000139  \n",
       "2                   0.000146  \n",
       "3                   0.000248  \n",
       "4                   0.000593  "
      ]
     },
     "execution_count": 218,
     "metadata": {},
     "output_type": "execute_result"
    }
   ],
   "source": [
    "a1_table = pd.DataFrame(a1_data)\n",
    "a1_table"
   ]
  },
  {
   "cell_type": "markdown",
   "id": "f6771ae6-2322-464c-b5d4-1ac79879807d",
   "metadata": {},
   "source": [
    "### 5) Use python matplotlib or Seaborn to generate a plot (or series of plots) with the size of the random number array on the horizontal axis and with execution time on the vertical axis. The plot should show execution time against array size for linear and binary search algorithms. Discuss the results."
   ]
  },
  {
   "cell_type": "code",
   "execution_count": 222,
   "id": "747f2a2a-1039-4bfa-8444-3d470dd2078e",
   "metadata": {},
   "outputs": [
    {
     "data": {
      "image/png": "[encoded data removed]",
      "text/plain": [
       "<Figure size 432x288 with 1 Axes>"
      ]
     },
     "metadata": {
      "needs_background": "light"
     },
     "output_type": "display_data"
    }
   ],
   "source": [
    "plt.plot(a1_table.iloc[:, 0], a1_table.iloc[:, 2], label = 'Linear Search')\n",
    "plt.plot(a1_table.iloc[:, 0], a1_table.iloc[:, 3], label = 'Binary Search')\n",
    "plt.plot(a1_table.iloc[:, 0], a1_table.iloc[:, 4], label = 'Binary Search + Sort')\n",
    "plt.xlabel('Array Size')\n",
    "plt.ylabel('Execution Time (s)')\n",
    "plt.title('Performance of Different Searches by Array Size')\n",
    "#plt.xticks(a1_table['Array Length'])\n",
    "plt.legend()\n",
    "plt.show() # Results discussed in Executive Summary below"
   ]
  },
  {
   "cell_type": "markdown",
   "id": "b12eaca8-0bba-450f-b8f9-a12e7e4d1bf0",
   "metadata": {},
   "source": [
    "## Executive Summary"
   ]
  },
  {
   "cell_type": "markdown",
   "id": "450aef60-abb5-4165-85f9-8c691dd2ff4d",
   "metadata": {},
   "source": [
    "### Prepare an executive summary of your results, referring to the table and figures you have generated. Explain how your results relate to big O notation. Describe your results in language that management can understand. This summary should be included as text paragraphs in the Jupyter notebook. Explain how the algorithm works and why it is a useful to data engineers."
   ]
  },
  {
   "cell_type": "markdown",
   "id": "2940e67a-dd82-4458-af5b-4376b87d93f1",
   "metadata": {},
   "source": [
    "This exercise has allowed us to compare the performances of both linear and binary search algorithms, and has helped us understand the characteristics and benefits of each appraoch. 5 different lists of randomly generated numbers were created, each doubling in length. The worst-case execution time was captured for both search types on each list.\n",
    "\n",
    "The results show that binary search scales much better than linear search. While linear search performs about the same (time-wise) up until array size 1,000, its execution quickly outgrows the performance of binary search for arrays with larger lengths. Thus we can conclude that binary search is a more versatile and scalable search algorithm than linear search, as it can adequately handle searching lists of different sizes.\n",
    "\n",
    "These findings are supported by the readings, wich define the big O notations of linear and binary search as follows:\n",
    "\n",
    "- Linear Search: O(n)\n",
    "    - Linear search works by starting at the beginning of a list and searching each element, one at a time, until the requested element has been found or the list is completed. This algorithm is useful to data engineers as a brute-force solution to solving search problems. While it does not scale well (linear time), it is accurate and reliable.\n",
    "\n",
    "\n",
    "- Binary Search: O(log(n))\n",
    "    - Binary search works by searching for the requested element in the middle of a list, and then based on if the found result is greater than or less than the needed value will cut half of the list from its search and repeat until the value is found or the list is completed. In this way, binary search can scale to very large lists by continuing to cut the length of the list in half until the desired element is found. This algorithm is useful to data engineers because of how well it scales (logarithmic time) and how simple its code is."
   ]
  }
 ],
 "metadata": {
  "kernelspec": {
   "display_name": "Python 3",
   "language": "python",
   "name": "python3"
  },
  "language_info": {
   "codemirror_mode": {
    "name": "ipython",
    "version": 3
   },
   "file_extension": ".py",
   "mimetype": "text/x-python",
   "name": "python",
   "nbconvert_exporter": "python",
   "pygments_lexer": "ipython3",
   "version": "3.8.8"
  }
 },
 "nbformat": 4,
 "nbformat_minor": 5
}
